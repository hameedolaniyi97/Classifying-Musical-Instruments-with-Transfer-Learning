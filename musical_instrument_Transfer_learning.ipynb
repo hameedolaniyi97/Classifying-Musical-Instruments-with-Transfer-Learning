{
  "nbformat": 4,
  "nbformat_minor": 0,
  "metadata": {
    "colab": {
      "provenance": [],
      "gpuType": "T4",
      "authorship_tag": "ABX9TyObIpw5JM1X4s5VEaqY0Y3l",
      "include_colab_link": true
    },
    "kernelspec": {
      "name": "python3",
      "display_name": "Python 3"
    },
    "language_info": {
      "name": "python"
    },
    "accelerator": "GPU",
    "widgets": {
      "application/vnd.jupyter.widget-state+json": {
        "6b47b08cfd9441aba1ce8eee74f7f447": {
          "model_module": "@jupyter-widgets/controls",
          "model_name": "HBoxModel",
          "model_module_version": "1.5.0",
          "state": {
            "_dom_classes": [],
            "_model_module": "@jupyter-widgets/controls",
            "_model_module_version": "1.5.0",
            "_model_name": "HBoxModel",
            "_view_count": null,
            "_view_module": "@jupyter-widgets/controls",
            "_view_module_version": "1.5.0",
            "_view_name": "HBoxView",
            "box_style": "",
            "children": [
              "IPY_MODEL_646a261c87d44e6782d301054cdc0f71",
              "IPY_MODEL_1ddb3d3a781b4d1d8c36f68a6659e50a",
              "IPY_MODEL_cee0577a0f924cb3bbd17c234d00a272"
            ],
            "layout": "IPY_MODEL_abe8afb2dce8413b943312e4c5a2b0d2"
          }
        },
        "646a261c87d44e6782d301054cdc0f71": {
          "model_module": "@jupyter-widgets/controls",
          "model_name": "HTMLModel",
          "model_module_version": "1.5.0",
          "state": {
            "_dom_classes": [],
            "_model_module": "@jupyter-widgets/controls",
            "_model_module_version": "1.5.0",
            "_model_name": "HTMLModel",
            "_view_count": null,
            "_view_module": "@jupyter-widgets/controls",
            "_view_module_version": "1.5.0",
            "_view_name": "HTMLView",
            "description": "",
            "description_tooltip": null,
            "layout": "IPY_MODEL_ae66eae40af142b298809caf173cd9d8",
            "placeholder": "​",
            "style": "IPY_MODEL_5b61217409dd4ceea8e6590e382d4e6b",
            "value": "model.safetensors: 100%"
          }
        },
        "1ddb3d3a781b4d1d8c36f68a6659e50a": {
          "model_module": "@jupyter-widgets/controls",
          "model_name": "FloatProgressModel",
          "model_module_version": "1.5.0",
          "state": {
            "_dom_classes": [],
            "_model_module": "@jupyter-widgets/controls",
            "_model_module_version": "1.5.0",
            "_model_name": "FloatProgressModel",
            "_view_count": null,
            "_view_module": "@jupyter-widgets/controls",
            "_view_module_version": "1.5.0",
            "_view_name": "ProgressView",
            "bar_style": "success",
            "description": "",
            "description_tooltip": null,
            "layout": "IPY_MODEL_1a2618dbcd094931b68639f462547c74",
            "max": 49335454,
            "min": 0,
            "orientation": "horizontal",
            "style": "IPY_MODEL_2529d5014dbf4036b1eb97fb4501984e",
            "value": 49335454
          }
        },
        "cee0577a0f924cb3bbd17c234d00a272": {
          "model_module": "@jupyter-widgets/controls",
          "model_name": "HTMLModel",
          "model_module_version": "1.5.0",
          "state": {
            "_dom_classes": [],
            "_model_module": "@jupyter-widgets/controls",
            "_model_module_version": "1.5.0",
            "_model_name": "HTMLModel",
            "_view_count": null,
            "_view_module": "@jupyter-widgets/controls",
            "_view_module_version": "1.5.0",
            "_view_name": "HTMLView",
            "description": "",
            "description_tooltip": null,
            "layout": "IPY_MODEL_0c05f97d75934b11a96e3f51fe9e7f66",
            "placeholder": "​",
            "style": "IPY_MODEL_576ff623383d409494a420c569ebd2f6",
            "value": " 49.3M/49.3M [00:00&lt;00:00, 144MB/s]"
          }
        },
        "abe8afb2dce8413b943312e4c5a2b0d2": {
          "model_module": "@jupyter-widgets/base",
          "model_name": "LayoutModel",
          "model_module_version": "1.2.0",
          "state": {
            "_model_module": "@jupyter-widgets/base",
            "_model_module_version": "1.2.0",
            "_model_name": "LayoutModel",
            "_view_count": null,
            "_view_module": "@jupyter-widgets/base",
            "_view_module_version": "1.2.0",
            "_view_name": "LayoutView",
            "align_content": null,
            "align_items": null,
            "align_self": null,
            "border": null,
            "bottom": null,
            "display": null,
            "flex": null,
            "flex_flow": null,
            "grid_area": null,
            "grid_auto_columns": null,
            "grid_auto_flow": null,
            "grid_auto_rows": null,
            "grid_column": null,
            "grid_gap": null,
            "grid_row": null,
            "grid_template_areas": null,
            "grid_template_columns": null,
            "grid_template_rows": null,
            "height": null,
            "justify_content": null,
            "justify_items": null,
            "left": null,
            "margin": null,
            "max_height": null,
            "max_width": null,
            "min_height": null,
            "min_width": null,
            "object_fit": null,
            "object_position": null,
            "order": null,
            "overflow": null,
            "overflow_x": null,
            "overflow_y": null,
            "padding": null,
            "right": null,
            "top": null,
            "visibility": null,
            "width": null
          }
        },
        "ae66eae40af142b298809caf173cd9d8": {
          "model_module": "@jupyter-widgets/base",
          "model_name": "LayoutModel",
          "model_module_version": "1.2.0",
          "state": {
            "_model_module": "@jupyter-widgets/base",
            "_model_module_version": "1.2.0",
            "_model_name": "LayoutModel",
            "_view_count": null,
            "_view_module": "@jupyter-widgets/base",
            "_view_module_version": "1.2.0",
            "_view_name": "LayoutView",
            "align_content": null,
            "align_items": null,
            "align_self": null,
            "border": null,
            "bottom": null,
            "display": null,
            "flex": null,
            "flex_flow": null,
            "grid_area": null,
            "grid_auto_columns": null,
            "grid_auto_flow": null,
            "grid_auto_rows": null,
            "grid_column": null,
            "grid_gap": null,
            "grid_row": null,
            "grid_template_areas": null,
            "grid_template_columns": null,
            "grid_template_rows": null,
            "height": null,
            "justify_content": null,
            "justify_items": null,
            "left": null,
            "margin": null,
            "max_height": null,
            "max_width": null,
            "min_height": null,
            "min_width": null,
            "object_fit": null,
            "object_position": null,
            "order": null,
            "overflow": null,
            "overflow_x": null,
            "overflow_y": null,
            "padding": null,
            "right": null,
            "top": null,
            "visibility": null,
            "width": null
          }
        },
        "5b61217409dd4ceea8e6590e382d4e6b": {
          "model_module": "@jupyter-widgets/controls",
          "model_name": "DescriptionStyleModel",
          "model_module_version": "1.5.0",
          "state": {
            "_model_module": "@jupyter-widgets/controls",
            "_model_module_version": "1.5.0",
            "_model_name": "DescriptionStyleModel",
            "_view_count": null,
            "_view_module": "@jupyter-widgets/base",
            "_view_module_version": "1.2.0",
            "_view_name": "StyleView",
            "description_width": ""
          }
        },
        "1a2618dbcd094931b68639f462547c74": {
          "model_module": "@jupyter-widgets/base",
          "model_name": "LayoutModel",
          "model_module_version": "1.2.0",
          "state": {
            "_model_module": "@jupyter-widgets/base",
            "_model_module_version": "1.2.0",
            "_model_name": "LayoutModel",
            "_view_count": null,
            "_view_module": "@jupyter-widgets/base",
            "_view_module_version": "1.2.0",
            "_view_name": "LayoutView",
            "align_content": null,
            "align_items": null,
            "align_self": null,
            "border": null,
            "bottom": null,
            "display": null,
            "flex": null,
            "flex_flow": null,
            "grid_area": null,
            "grid_auto_columns": null,
            "grid_auto_flow": null,
            "grid_auto_rows": null,
            "grid_column": null,
            "grid_gap": null,
            "grid_row": null,
            "grid_template_areas": null,
            "grid_template_columns": null,
            "grid_template_rows": null,
            "height": null,
            "justify_content": null,
            "justify_items": null,
            "left": null,
            "margin": null,
            "max_height": null,
            "max_width": null,
            "min_height": null,
            "min_width": null,
            "object_fit": null,
            "object_position": null,
            "order": null,
            "overflow": null,
            "overflow_x": null,
            "overflow_y": null,
            "padding": null,
            "right": null,
            "top": null,
            "visibility": null,
            "width": null
          }
        },
        "2529d5014dbf4036b1eb97fb4501984e": {
          "model_module": "@jupyter-widgets/controls",
          "model_name": "ProgressStyleModel",
          "model_module_version": "1.5.0",
          "state": {
            "_model_module": "@jupyter-widgets/controls",
            "_model_module_version": "1.5.0",
            "_model_name": "ProgressStyleModel",
            "_view_count": null,
            "_view_module": "@jupyter-widgets/base",
            "_view_module_version": "1.2.0",
            "_view_name": "StyleView",
            "bar_color": null,
            "description_width": ""
          }
        },
        "0c05f97d75934b11a96e3f51fe9e7f66": {
          "model_module": "@jupyter-widgets/base",
          "model_name": "LayoutModel",
          "model_module_version": "1.2.0",
          "state": {
            "_model_module": "@jupyter-widgets/base",
            "_model_module_version": "1.2.0",
            "_model_name": "LayoutModel",
            "_view_count": null,
            "_view_module": "@jupyter-widgets/base",
            "_view_module_version": "1.2.0",
            "_view_name": "LayoutView",
            "align_content": null,
            "align_items": null,
            "align_self": null,
            "border": null,
            "bottom": null,
            "display": null,
            "flex": null,
            "flex_flow": null,
            "grid_area": null,
            "grid_auto_columns": null,
            "grid_auto_flow": null,
            "grid_auto_rows": null,
            "grid_column": null,
            "grid_gap": null,
            "grid_row": null,
            "grid_template_areas": null,
            "grid_template_columns": null,
            "grid_template_rows": null,
            "height": null,
            "justify_content": null,
            "justify_items": null,
            "left": null,
            "margin": null,
            "max_height": null,
            "max_width": null,
            "min_height": null,
            "min_width": null,
            "object_fit": null,
            "object_position": null,
            "order": null,
            "overflow": null,
            "overflow_x": null,
            "overflow_y": null,
            "padding": null,
            "right": null,
            "top": null,
            "visibility": null,
            "width": null
          }
        },
        "576ff623383d409494a420c569ebd2f6": {
          "model_module": "@jupyter-widgets/controls",
          "model_name": "DescriptionStyleModel",
          "model_module_version": "1.5.0",
          "state": {
            "_model_module": "@jupyter-widgets/controls",
            "_model_module_version": "1.5.0",
            "_model_name": "DescriptionStyleModel",
            "_view_count": null,
            "_view_module": "@jupyter-widgets/base",
            "_view_module_version": "1.2.0",
            "_view_name": "StyleView",
            "description_width": ""
          }
        }
      }
    }
  },
  "cells": [
    {
      "cell_type": "markdown",
      "metadata": {
        "id": "view-in-github",
        "colab_type": "text"
      },
      "source": [
        "<a href=\"https://colab.research.google.com/github/hameedolaniyi97/Classifying-Musical-Instruments-with-Transfer-Learning/blob/main/musical_instrument_Transfer_learning.ipynb\" target=\"_parent\"><img src=\"https://colab.research.google.com/assets/colab-badge.svg\" alt=\"Open In Colab\"/></a>"
      ]
    },
    {
      "cell_type": "code",
      "source": [
        "import torch\n",
        "from torch import nn, optim\n",
        "import numpy as np\n",
        "import timm\n",
        "import wandb\n",
        "from torchvision import datasets, transforms\n",
        "from torch.utils.data import DataLoader, random_split\n",
        "from sklearn.metrics import f1_score, precision_score, recall_score\n",
        "import matplotlib.pyplot as plt\n",
        "import os\n",
        "from tqdm import tqdm"
      ],
      "metadata": {
        "id": "_33H4v5nbTYM"
      },
      "execution_count": null,
      "outputs": []
    },
    {
      "cell_type": "code",
      "source": [
        "import kagglehub\n",
        "\n",
        "# Download latest version\n",
        "path = kagglehub.dataset_download(\"nikolasgegenava/music-instruments\")\n",
        "\n",
        "print(\"Path to dataset files:\", path)"
      ],
      "metadata": {
        "colab": {
          "base_uri": "https://localhost:8080/"
        },
        "id": "TzIrVGSjbT5v",
        "outputId": "04da134b-88fd-41b4-cdc9-f9b01240f3c9"
      },
      "execution_count": null,
      "outputs": [
        {
          "output_type": "stream",
          "name": "stdout",
          "text": [
            "Path to dataset files: /kaggle/input/music-instruments\n"
          ]
        }
      ]
    },
    {
      "cell_type": "code",
      "source": [
        "data_path = os.path.join(path, 'music_instruments')"
      ],
      "metadata": {
        "id": "Oc18CF8SVCta"
      },
      "execution_count": null,
      "outputs": []
    },
    {
      "cell_type": "code",
      "source": [
        "# setup the transforms\n",
        "\n",
        "transform = transforms.Compose([\n",
        "    transforms.ToTensor(),\n",
        "    transforms.Normalize([0.485, 0.456, 0.406], [0.229, 0.224, 0.225]),\n",
        "    transforms.RandomHorizontalFlip(p=0.4),\n",
        "    transforms.ColorJitter(brightness=0.2, saturation=0.2,\n",
        "                           hue=0.1,contrast=0.1),\n",
        "    transforms.Resize((200,200))\n",
        "])"
      ],
      "metadata": {
        "id": "wXHfQFyybZXX"
      },
      "execution_count": null,
      "outputs": []
    },
    {
      "cell_type": "code",
      "source": [
        "# load the dataset\n",
        "data = datasets.ImageFolder(root=data_path, transform=transform)"
      ],
      "metadata": {
        "id": "Lt7rFM6Rbj4c"
      },
      "execution_count": null,
      "outputs": []
    },
    {
      "cell_type": "code",
      "source": [
        "# split the data into train and test set\n",
        "train_size = int(0.6 * len(data))\n",
        "test_size = len(data) - train_size\n",
        "train_data, test_data = random_split(dataset=data, lengths=[train_size, test_size])\n",
        "\n",
        "# repeat this step to split test (40% of the data) into train and test set to fit gpu.\n",
        "train_size = int(0.8 * len(test_data))\n",
        "test_size = len(test_data) - train_size\n",
        "train_data, test_data = random_split(dataset=test_data, lengths=[train_size, test_size])\n",
        "\n",
        "\n",
        "# setup the data loader\n",
        "BATCH_SIZE = 32\n",
        "train_loader = DataLoader(dataset = train_data, batch_size=BATCH_SIZE, shuffle=True)\n",
        "test_loader = DataLoader(dataset=test_data, batch_size=BATCH_SIZE, shuffle=True)"
      ],
      "metadata": {
        "id": "9xBcjj5_bsb1"
      },
      "execution_count": null,
      "outputs": []
    },
    {
      "cell_type": "code",
      "source": [
        "# setup the model architecture and hyperparameters\n",
        "\n",
        "model = timm.create_model(model_name='efficientnet_b3', pretrained=True)\n",
        "model.classifier = nn.Linear(in_features=model.classifier.in_features, out_features=10)\n",
        "device = torch.device('cuda' if torch.cuda.is_available() else 'cpu')\n",
        "model = model.to(device)\n",
        "LEARNING_RATE = 1e-4\n",
        "optimizer = optim.AdamW(params=model.parameters(), lr=LEARNING_RATE, weight_decay=0.01)\n",
        "scheduler = optim.lr_scheduler.StepLR(optimizer=optimizer, step_size=2, gamma=0.1)\n",
        "EPOCHS = 10\n",
        "criterion = nn.CrossEntropyLoss()"
      ],
      "metadata": {
        "id": "9OtjfKaZke1S",
        "colab": {
          "base_uri": "https://localhost:8080/",
          "height": 173,
          "referenced_widgets": [
            "6b47b08cfd9441aba1ce8eee74f7f447",
            "646a261c87d44e6782d301054cdc0f71",
            "1ddb3d3a781b4d1d8c36f68a6659e50a",
            "cee0577a0f924cb3bbd17c234d00a272",
            "abe8afb2dce8413b943312e4c5a2b0d2",
            "ae66eae40af142b298809caf173cd9d8",
            "5b61217409dd4ceea8e6590e382d4e6b",
            "1a2618dbcd094931b68639f462547c74",
            "2529d5014dbf4036b1eb97fb4501984e",
            "0c05f97d75934b11a96e3f51fe9e7f66",
            "576ff623383d409494a420c569ebd2f6"
          ]
        },
        "outputId": "134638f3-a7f4-4fc4-d68d-661861c83593"
      },
      "execution_count": null,
      "outputs": [
        {
          "output_type": "stream",
          "name": "stderr",
          "text": [
            "/usr/local/lib/python3.11/dist-packages/huggingface_hub/utils/_auth.py:94: UserWarning: \n",
            "The secret `HF_TOKEN` does not exist in your Colab secrets.\n",
            "To authenticate with the Hugging Face Hub, create a token in your settings tab (https://huggingface.co/settings/tokens), set it as secret in your Google Colab and restart your session.\n",
            "You will be able to reuse this secret in all of your notebooks.\n",
            "Please note that authentication is recommended but still optional to access public models or datasets.\n",
            "  warnings.warn(\n"
          ]
        },
        {
          "output_type": "display_data",
          "data": {
            "text/plain": [
              "model.safetensors:   0%|          | 0.00/49.3M [00:00<?, ?B/s]"
            ],
            "application/vnd.jupyter.widget-view+json": {
              "version_major": 2,
              "version_minor": 0,
              "model_id": "6b47b08cfd9441aba1ce8eee74f7f447"
            }
          },
          "metadata": {}
        }
      ]
    },
    {
      "cell_type": "code",
      "source": [
        "music_ins_list = ['accordion','banjo','drum',\n",
        "               'flute','guitar','harmonica',\n",
        "               'saxophone','sitar','tabla','violin']\n",
        "len(music_ins_list)"
      ],
      "metadata": {
        "colab": {
          "base_uri": "https://localhost:8080/"
        },
        "id": "McSlwikHVxJL",
        "outputId": "2e15ea1c-1e51-4426-977c-7de9c66f0a56"
      },
      "execution_count": null,
      "outputs": [
        {
          "output_type": "execute_result",
          "data": {
            "text/plain": [
              "10"
            ]
          },
          "metadata": {},
          "execution_count": 8
        }
      ]
    },
    {
      "cell_type": "code",
      "source": [
        "# init wandb for tracking\n",
        "\n",
        "run = wandb.init(\n",
        "    project = 'music_instrument Classification With Fine Tuned EfficientNet-B3',\n",
        "    name= 'second run',\n",
        "    config= {\n",
        "        'model_name': 'efficientnet-b3',\n",
        "        'device': device,\n",
        "        'data_path': data_path,\n",
        "        'learning rate': LEARNING_RATE,\n",
        "        'optimizer': 'AdamW',\n",
        "        'weight decay': 0.01,\n",
        "        'scheduler': {'step': 2, 'gamma': 0.1},\n",
        "        'epochs': EPOCHS\n",
        "    }\n",
        ")"
      ],
      "metadata": {
        "colab": {
          "base_uri": "https://localhost:8080/",
          "height": 280
        },
        "id": "bDucQmM9W1GK",
        "outputId": "22f6ec89-055b-4d42-e957-f137e073fca7"
      },
      "execution_count": null,
      "outputs": [
        {
          "output_type": "display_data",
          "data": {
            "text/plain": [
              "<IPython.core.display.Javascript object>"
            ],
            "application/javascript": [
              "\n",
              "        window._wandbApiKey = new Promise((resolve, reject) => {\n",
              "            function loadScript(url) {\n",
              "            return new Promise(function(resolve, reject) {\n",
              "                let newScript = document.createElement(\"script\");\n",
              "                newScript.onerror = reject;\n",
              "                newScript.onload = resolve;\n",
              "                document.body.appendChild(newScript);\n",
              "                newScript.src = url;\n",
              "            });\n",
              "            }\n",
              "            loadScript(\"https://cdn.jsdelivr.net/npm/postmate/build/postmate.min.js\").then(() => {\n",
              "            const iframe = document.createElement('iframe')\n",
              "            iframe.style.cssText = \"width:0;height:0;border:none\"\n",
              "            document.body.appendChild(iframe)\n",
              "            const handshake = new Postmate({\n",
              "                container: iframe,\n",
              "                url: 'https://wandb.ai/authorize'\n",
              "            });\n",
              "            const timeout = setTimeout(() => reject(\"Couldn't auto authenticate\"), 5000)\n",
              "            handshake.then(function(child) {\n",
              "                child.on('authorize', data => {\n",
              "                    clearTimeout(timeout)\n",
              "                    resolve(data)\n",
              "                });\n",
              "            });\n",
              "            })\n",
              "        });\n",
              "    "
            ]
          },
          "metadata": {}
        },
        {
          "output_type": "stream",
          "name": "stderr",
          "text": [
            "\u001b[34m\u001b[1mwandb\u001b[0m: Logging into wandb.ai. (Learn how to deploy a W&B server locally: https://wandb.me/wandb-server)\n",
            "\u001b[34m\u001b[1mwandb\u001b[0m: You can find your API key in your browser here: https://wandb.ai/authorize?ref=models\n",
            "wandb: Paste an API key from your profile and hit enter:"
          ]
        },
        {
          "name": "stdout",
          "output_type": "stream",
          "text": [
            " ··········\n"
          ]
        },
        {
          "output_type": "stream",
          "name": "stderr",
          "text": [
            "\u001b[34m\u001b[1mwandb\u001b[0m: \u001b[33mWARNING\u001b[0m If you're specifying your api key in code, ensure this code is not shared publicly.\n",
            "\u001b[34m\u001b[1mwandb\u001b[0m: \u001b[33mWARNING\u001b[0m Consider setting the WANDB_API_KEY environment variable, or running `wandb login` from the command line.\n",
            "\u001b[34m\u001b[1mwandb\u001b[0m: No netrc file found, creating one.\n",
            "\u001b[34m\u001b[1mwandb\u001b[0m: Appending key for api.wandb.ai to your netrc file: /root/.netrc\n",
            "\u001b[34m\u001b[1mwandb\u001b[0m: Currently logged in as: \u001b[33mdatawhizcoder\u001b[0m (\u001b[33mdatawhizcoder-apple\u001b[0m) to \u001b[32mhttps://api.wandb.ai\u001b[0m. Use \u001b[1m`wandb login --relogin`\u001b[0m to force relogin\n"
          ]
        },
        {
          "output_type": "display_data",
          "data": {
            "text/plain": [
              "<IPython.core.display.HTML object>"
            ],
            "text/html": [
              "Tracking run with wandb version 0.20.1"
            ]
          },
          "metadata": {}
        },
        {
          "output_type": "display_data",
          "data": {
            "text/plain": [
              "<IPython.core.display.HTML object>"
            ],
            "text/html": [
              "Run data is saved locally in <code>/content/wandb/run-20250708_092415-ygs8hm7n</code>"
            ]
          },
          "metadata": {}
        },
        {
          "output_type": "display_data",
          "data": {
            "text/plain": [
              "<IPython.core.display.HTML object>"
            ],
            "text/html": [
              "Syncing run <strong><a href='https://wandb.ai/datawhizcoder-apple/music_instrument%20Classification%20With%20Fine%20Tuned%20EfficientNet-B3/runs/ygs8hm7n' target=\"_blank\">second run</a></strong> to <a href='https://wandb.ai/datawhizcoder-apple/music_instrument%20Classification%20With%20Fine%20Tuned%20EfficientNet-B3' target=\"_blank\">Weights & Biases</a> (<a href='https://wandb.me/developer-guide' target=\"_blank\">docs</a>)<br>"
            ]
          },
          "metadata": {}
        },
        {
          "output_type": "display_data",
          "data": {
            "text/plain": [
              "<IPython.core.display.HTML object>"
            ],
            "text/html": [
              " View project at <a href='https://wandb.ai/datawhizcoder-apple/music_instrument%20Classification%20With%20Fine%20Tuned%20EfficientNet-B3' target=\"_blank\">https://wandb.ai/datawhizcoder-apple/music_instrument%20Classification%20With%20Fine%20Tuned%20EfficientNet-B3</a>"
            ]
          },
          "metadata": {}
        },
        {
          "output_type": "display_data",
          "data": {
            "text/plain": [
              "<IPython.core.display.HTML object>"
            ],
            "text/html": [
              " View run at <a href='https://wandb.ai/datawhizcoder-apple/music_instrument%20Classification%20With%20Fine%20Tuned%20EfficientNet-B3/runs/ygs8hm7n' target=\"_blank\">https://wandb.ai/datawhizcoder-apple/music_instrument%20Classification%20With%20Fine%20Tuned%20EfficientNet-B3/runs/ygs8hm7n</a>"
            ]
          },
          "metadata": {}
        }
      ]
    },
    {
      "cell_type": "code",
      "source": [
        "# begin the training loop\n",
        "\n",
        "\n",
        "for epoch in range(EPOCHS):\n",
        "  train_epoch_loss, test_epoch_loss = [], []\n",
        "  train_epoch_labels, train_epoch_preds = [], []\n",
        "  test_epoch_labels, test_epoch_preds = [], []\n",
        "  train_batch = tqdm(train_loader, desc= f'Training Epoch: {epoch+1}/{EPOCHS}')\n",
        "  for image, label in train_batch:\n",
        "    model.train()\n",
        "    image, label = image.to(device), label.to(device)\n",
        "    train_preds = model(image)\n",
        "    loss = criterion(train_preds, label)\n",
        "\n",
        "    # back propagation\n",
        "    optimizer.zero_grad()\n",
        "    loss.backward()\n",
        "    optimizer.step()\n",
        "\n",
        "    train_epoch_loss.append(loss.item())\n",
        "    train_epoch_labels.extend(label.cpu().detach().numpy())\n",
        "    _, train_preds = torch.max(train_preds, 1)\n",
        "    train_epoch_preds.extend(train_preds.cpu().detach().numpy())\n",
        "\n",
        "    train_batch.set_postfix(loss=loss.item())\n",
        "\n",
        "  scheduler.step()\n",
        "  # compute the f1_score, precision and recall for training set\n",
        "  train_final_loss = sum(train_epoch_loss)/len(train_epoch_loss)\n",
        "  train_f1 = f1_score(train_epoch_labels, train_epoch_preds, average='weighted')\n",
        "  train_precision = precision_score(train_epoch_labels, train_epoch_preds, average='weighted')\n",
        "  train_recall = recall_score(train_epoch_labels, train_epoch_preds, average='weighted')\n",
        "\n",
        "  # now evaluate\n",
        "  model.eval()\n",
        "  with torch.no_grad():\n",
        "    test_batch = tqdm(test_loader, desc= f'Evaluating tests for Epoch: {epoch+1}/{EPOCHS}')\n",
        "    for test_image, test_labels in test_batch:\n",
        "      test_image, test_labels = test_image.to(device), test_labels.to(device)\n",
        "      test_preds = model(test_image)\n",
        "\n",
        "\n",
        "      test_loss = criterion(test_preds, test_labels)\n",
        "      test_epoch_loss.append(test_loss.item())\n",
        "      test_epoch_labels.extend(test_labels.cpu().detach().numpy())\n",
        "      _, test_preds = torch.max(test_preds, 1)\n",
        "      test_epoch_preds.extend(test_preds.cpu().detach().numpy())\n",
        "\n",
        "  # compute the f1_score, precision and recall for test set\n",
        "  test_final_loss = sum(test_epoch_loss)/len(test_epoch_loss)\n",
        "  test_f1 = f1_score(test_epoch_labels, test_epoch_preds, average='weighted')\n",
        "  test_precision = precision_score(test_epoch_labels, test_epoch_preds, average='weighted')\n",
        "  test_recall = recall_score(test_epoch_labels, test_epoch_preds, average='weighted')\n",
        "\n",
        "  print(f'Completed training Epoch: {epoch+1}..f1: {train_f1, test_f1}, loss: {train_final_loss, test_final_loss}')\n",
        "  print(f'Completed training Epoch: {epoch+1}..recall: {train_recall, test_recall}, precision: {train_precision, test_precision}')\n",
        "\n",
        "  # append result in wandb\n",
        "  run.log({\n",
        "      'epochs': epoch + 1,\n",
        "      'train loss': train_final_loss,\n",
        "      'test loss': test_final_loss,\n",
        "      'train f1': train_f1,\n",
        "      'train precision': train_precision,\n",
        "      'train recall': train_recall,\n",
        "      'test f1': test_f1,\n",
        "      'test precision': test_precision,\n",
        "      'test recall': test_recall\n",
        "  })\n",
        "\n",
        "run.finish()\n"
      ],
      "metadata": {
        "colab": {
          "base_uri": "https://localhost:8080/",
          "height": 1000
        },
        "id": "U-quOMx5XMtF",
        "outputId": "fd7f5c3a-5427-4f6d-e364-922694e4f6a0"
      },
      "execution_count": null,
      "outputs": [
        {
          "output_type": "stream",
          "name": "stderr",
          "text": [
            "Training Epoch: 1/10: 100%|██████████| 19/19 [00:12<00:00,  1.47it/s, loss=2.1]\n",
            "Evaluating tests for Epoch: 1/10: 100%|██████████| 5/5 [00:02<00:00,  2.50it/s]\n"
          ]
        },
        {
          "output_type": "stream",
          "name": "stdout",
          "text": [
            "Completed training Epoch: 1..f1: (0.3141418324432297, 0.6284903071997995), loss: (2.1649285617627596, 1.9268031358718871)\n",
            "Completed training Epoch: 1..recall: (0.3494809688581315, 0.6413793103448275), precision: (0.4032133603720137, 0.6750130419501617)\n"
          ]
        },
        {
          "output_type": "stream",
          "name": "stderr",
          "text": [
            "Training Epoch: 2/10: 100%|██████████| 19/19 [00:07<00:00,  2.38it/s, loss=2.04]\n",
            "Evaluating tests for Epoch: 2/10: 100%|██████████| 5/5 [00:01<00:00,  4.49it/s]\n"
          ]
        },
        {
          "output_type": "stream",
          "name": "stdout",
          "text": [
            "Completed training Epoch: 2..f1: (0.7753826445209852, 0.7940261221414876), loss: (1.681069581132186, 1.4647547721862793)\n",
            "Completed training Epoch: 2..recall: (0.7785467128027682, 0.7931034482758621), precision: (0.7910715781703527, 0.8112777840820437)\n"
          ]
        },
        {
          "output_type": "stream",
          "name": "stderr",
          "text": [
            "Training Epoch: 3/10: 100%|██████████| 19/19 [00:08<00:00,  2.27it/s, loss=1.95]\n",
            "Evaluating tests for Epoch: 3/10: 100%|██████████| 5/5 [00:01<00:00,  4.72it/s]\n"
          ]
        },
        {
          "output_type": "stream",
          "name": "stdout",
          "text": [
            "Completed training Epoch: 3..f1: (0.8403357763968259, 0.7549891404899385), loss: (1.3454328775405884, 1.50155029296875)\n",
            "Completed training Epoch: 3..recall: (0.842560553633218, 0.7517241379310344), precision: (0.8503330144635104, 0.7817265513865279)\n"
          ]
        },
        {
          "output_type": "stream",
          "name": "stderr",
          "text": [
            "Training Epoch: 4/10: 100%|██████████| 19/19 [00:08<00:00,  2.16it/s, loss=1.97]\n",
            "Evaluating tests for Epoch: 4/10: 100%|██████████| 5/5 [00:01<00:00,  3.29it/s]\n"
          ]
        },
        {
          "output_type": "stream",
          "name": "stdout",
          "text": [
            "Completed training Epoch: 4..f1: (0.8622127015205767, 0.7908895512677494), loss: (1.2983701856512773, 1.4087446451187133)\n",
            "Completed training Epoch: 4..recall: (0.8633217993079585, 0.7931034482758621), precision: (0.870591138270405, 0.8025396459524248)\n"
          ]
        },
        {
          "output_type": "stream",
          "name": "stderr",
          "text": [
            "Training Epoch: 5/10: 100%|██████████| 19/19 [00:09<00:00,  2.11it/s, loss=2.28]\n",
            "Evaluating tests for Epoch: 5/10: 100%|██████████| 5/5 [00:01<00:00,  4.71it/s]\n"
          ]
        },
        {
          "output_type": "stream",
          "name": "stdout",
          "text": [
            "Completed training Epoch: 5..f1: (0.8509475179191435, 0.7916502168496172), loss: (1.283408798669514, 1.4232098579406738)\n",
            "Completed training Epoch: 5..recall: (0.8529411764705882, 0.7931034482758621), precision: (0.8584027311376221, 0.8094152185430076)\n"
          ]
        },
        {
          "output_type": "stream",
          "name": "stderr",
          "text": [
            "Training Epoch: 6/10: 100%|██████████| 19/19 [00:08<00:00,  2.29it/s, loss=2.12]\n",
            "Evaluating tests for Epoch: 6/10: 100%|██████████| 5/5 [00:01<00:00,  3.78it/s]\n"
          ]
        },
        {
          "output_type": "stream",
          "name": "stdout",
          "text": [
            "Completed training Epoch: 6..f1: (0.8580440653417901, 0.8003457738915262), loss: (1.287690049723575, 1.4231035947799682)\n",
            "Completed training Epoch: 6..recall: (0.8598615916955017, 0.8), precision: (0.8663722030181764, 0.8351143813661163)\n"
          ]
        },
        {
          "output_type": "stream",
          "name": "stderr",
          "text": [
            "Training Epoch: 7/10: 100%|██████████| 19/19 [00:08<00:00,  2.25it/s, loss=2.01]\n",
            "Evaluating tests for Epoch: 7/10: 100%|██████████| 5/5 [00:01<00:00,  4.70it/s]\n"
          ]
        },
        {
          "output_type": "stream",
          "name": "stdout",
          "text": [
            "Completed training Epoch: 7..f1: (0.8795463305958714, 0.7715933115210091), loss: (1.2511997975801166, 1.4422648429870606)\n",
            "Completed training Epoch: 7..recall: (0.8806228373702422, 0.7724137931034483), precision: (0.883797947188812, 0.7868431081391474)\n"
          ]
        },
        {
          "output_type": "stream",
          "name": "stderr",
          "text": [
            "Training Epoch: 8/10: 100%|██████████| 19/19 [00:08<00:00,  2.20it/s, loss=2.06]\n",
            "Evaluating tests for Epoch: 8/10: 100%|██████████| 5/5 [00:01<00:00,  4.65it/s]\n"
          ]
        },
        {
          "output_type": "stream",
          "name": "stdout",
          "text": [
            "Completed training Epoch: 8..f1: (0.8749368070566995, 0.7666610302352431), loss: (1.2535004678525423, 1.4213567972183228)\n",
            "Completed training Epoch: 8..recall: (0.8771626297577855, 0.7655172413793103), precision: (0.8819048243906947, 0.7857106720189886)\n"
          ]
        },
        {
          "output_type": "stream",
          "name": "stderr",
          "text": [
            "Training Epoch: 9/10: 100%|██████████| 19/19 [00:08<00:00,  2.20it/s, loss=2.04]\n",
            "Evaluating tests for Epoch: 9/10: 100%|██████████| 5/5 [00:01<00:00,  4.57it/s]\n"
          ]
        },
        {
          "output_type": "stream",
          "name": "stdout",
          "text": [
            "Completed training Epoch: 9..f1: (0.8660739241992864, 0.789635730612585), loss: (1.248556181004173, 1.423336958885193)\n",
            "Completed training Epoch: 9..recall: (0.8685121107266436, 0.7931034482758621), precision: (0.8723891312418691, 0.8017264429282684)\n"
          ]
        },
        {
          "output_type": "stream",
          "name": "stderr",
          "text": [
            "Training Epoch: 10/10: 100%|██████████| 19/19 [00:08<00:00,  2.30it/s, loss=1.83]\n",
            "Evaluating tests for Epoch: 10/10: 100%|██████████| 5/5 [00:01<00:00,  3.95it/s]"
          ]
        },
        {
          "output_type": "stream",
          "name": "stdout",
          "text": [
            "Completed training Epoch: 10..f1: (0.8778881960673635, 0.7797370739124863), loss: (1.2394441303453947, 1.404770851135254)\n",
            "Completed training Epoch: 10..recall: (0.8788927335640139, 0.7793103448275862), precision: (0.8833300262680382, 0.8007193752832699)\n"
          ]
        },
        {
          "output_type": "stream",
          "name": "stderr",
          "text": [
            "\n"
          ]
        },
        {
          "output_type": "display_data",
          "data": {
            "text/plain": [
              "<IPython.core.display.HTML object>"
            ],
            "text/html": []
          },
          "metadata": {}
        },
        {
          "output_type": "display_data",
          "data": {
            "text/plain": [
              "<IPython.core.display.HTML object>"
            ],
            "text/html": [
              "<br>    <style><br>        .wandb-row {<br>            display: flex;<br>            flex-direction: row;<br>            flex-wrap: wrap;<br>            justify-content: flex-start;<br>            width: 100%;<br>        }<br>        .wandb-col {<br>            display: flex;<br>            flex-direction: column;<br>            flex-basis: 100%;<br>            flex: 1;<br>            padding: 10px;<br>        }<br>    </style><br><div class=\"wandb-row\"><div class=\"wandb-col\"><h3>Run history:</h3><br/><table class=\"wandb\"><tr><td>epochs</td><td>▁▂▃▃▄▅▆▆▇█</td></tr><tr><td>test f1</td><td>▁█▆███▇▇█▇</td></tr><tr><td>test loss</td><td>█▂▂▁▁▁▂▁▁▁</td></tr><tr><td>test precision</td><td>▁▇▆▇▇█▆▆▇▆</td></tr><tr><td>test recall</td><td>▁█▆███▇▆█▇</td></tr><tr><td>train f1</td><td>▁▇████████</td></tr><tr><td>train loss</td><td>█▄▂▁▁▁▁▁▁▁</td></tr><tr><td>train precision</td><td>▁▇████████</td></tr><tr><td>train recall</td><td>▁▇▇███████</td></tr></table><br/></div><div class=\"wandb-col\"><h3>Run summary:</h3><br/><table class=\"wandb\"><tr><td>epochs</td><td>10</td></tr><tr><td>test f1</td><td>0.77974</td></tr><tr><td>test loss</td><td>1.40477</td></tr><tr><td>test precision</td><td>0.80072</td></tr><tr><td>test recall</td><td>0.77931</td></tr><tr><td>train f1</td><td>0.87789</td></tr><tr><td>train loss</td><td>1.23944</td></tr><tr><td>train precision</td><td>0.88333</td></tr><tr><td>train recall</td><td>0.87889</td></tr></table><br/></div></div>"
            ]
          },
          "metadata": {}
        },
        {
          "output_type": "display_data",
          "data": {
            "text/plain": [
              "<IPython.core.display.HTML object>"
            ],
            "text/html": [
              " View run <strong style=\"color:#cdcd00\">second run</strong> at: <a href='https://wandb.ai/datawhizcoder-apple/music_instrument%20Classification%20With%20Fine%20Tuned%20EfficientNet-B3/runs/ygs8hm7n' target=\"_blank\">https://wandb.ai/datawhizcoder-apple/music_instrument%20Classification%20With%20Fine%20Tuned%20EfficientNet-B3/runs/ygs8hm7n</a><br> View project at: <a href='https://wandb.ai/datawhizcoder-apple/music_instrument%20Classification%20With%20Fine%20Tuned%20EfficientNet-B3' target=\"_blank\">https://wandb.ai/datawhizcoder-apple/music_instrument%20Classification%20With%20Fine%20Tuned%20EfficientNet-B3</a><br>Synced 5 W&B file(s), 0 media file(s), 0 artifact file(s) and 0 other file(s)"
            ]
          },
          "metadata": {}
        },
        {
          "output_type": "display_data",
          "data": {
            "text/plain": [
              "<IPython.core.display.HTML object>"
            ],
            "text/html": [
              "Find logs at: <code>./wandb/run-20250708_092415-ygs8hm7n/logs</code>"
            ]
          },
          "metadata": {}
        }
      ]
    },
    {
      "cell_type": "code",
      "source": [
        "from PIL import Image\n",
        "\n",
        "softmax = nn.Softmax()\n",
        "\n",
        "\n",
        "def predict_music_ins() -> None:\n",
        "  new_image = Image.open(input('Enter image url: ')).convert('RGB')\n",
        "  new_image = transform(new_image).unsqueeze(0)\n",
        "  new_image = new_image.to(device)\n",
        "  preds = model(new_image)\n",
        "  preds = softmax(preds)\n",
        "  probability, prediction = torch.max(preds, 1)\n",
        "\n",
        "  print(f'This is an image of {music_ins_list[prediction.item()]} with probability of {probability.item()}')\n",
        "\n",
        "\n",
        "\n",
        "\n",
        "predict_music_ins()"
      ],
      "metadata": {
        "colab": {
          "base_uri": "https://localhost:8080/"
        },
        "id": "IkTcj0WDbYuD",
        "outputId": "9538776b-2983-45f5-b1f1-97f359f92e58"
      },
      "execution_count": null,
      "outputs": [
        {
          "output_type": "stream",
          "name": "stdout",
          "text": [
            "Enter image url: /content/OIP (1).webp\n",
            "This is an image of tabla with probability of 0.17019538581371307\n"
          ]
        },
        {
          "output_type": "stream",
          "name": "stderr",
          "text": [
            "/usr/local/lib/python3.11/dist-packages/torch/nn/modules/module.py:1739: UserWarning: Implicit dimension choice for softmax has been deprecated. Change the call to include dim=X as an argument.\n",
            "  return self._call_impl(*args, **kwargs)\n"
          ]
        }
      ]
    },
    {
      "cell_type": "code",
      "source": [],
      "metadata": {
        "id": "5XrUuNKJcwAd"
      },
      "execution_count": null,
      "outputs": []
    }
  ]
}